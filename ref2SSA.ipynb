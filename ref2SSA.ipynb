{
  "nbformat": 4,
  "nbformat_minor": 0,
  "metadata": {
    "colab": {
      "provenance": [],
      "authorship_tag": "ABX9TyOzMXFLmB5rZ5WIQaBNDIQq",
      "include_colab_link": true
    },
    "kernelspec": {
      "name": "python3",
      "display_name": "Python 3"
    },
    "language_info": {
      "name": "python"
    }
  },
  "cells": [
    {
      "cell_type": "markdown",
      "metadata": {
        "id": "view-in-github",
        "colab_type": "text"
      },
      "source": [
        "<a href=\"https://colab.research.google.com/github/jiinjung/lunar-spectroscopy-toolkit/blob/main/ref2SSA.ipynb\" target=\"_parent\"><img src=\"https://colab.research.google.com/assets/colab-badge.svg\" alt=\"Open In Colab\"/></a>"
      ]
    },
    {
      "cell_type": "code",
      "execution_count": null,
      "metadata": {
        "id": "AYIwb82jQir1"
      },
      "outputs": [],
      "source": [
        "import numpy as np\n",
        "import pandas as pd\n",
        "import matplotlib.pyplot as plt"
      ]
    },
    {
      "cell_type": "markdown",
      "source": [
        "# 1) Basic Functions and Tools for Radiative Transfer Models\n",
        "\n",
        "Next few blocks is a basic Hapke radiative transfer model functions and basic caculation tools for converting reflectance to single scattering albedo\n",
        "\n",
        "This includes five functions: \n",
        "\n",
        "\n",
        "1) **Chandrasekhar(w , x)** : This function calculates Chandrasekar H function from Hapke radiative tranfer model\n",
        "    Inputs: 1) w = SSA, 2) x = mu or mu_0\n",
        "    Output: 1) H = corresponding Chandrasekar H-function\n",
        "\n",
        "2) **phaseFunction(g)**: This function calculates phase function in the Hapke radiative transfer model, that how reflected energy changes with viewing directions. The value are from Pieters and Li lunar spectroscopy papers\n",
        "    Inputs: 1) g = phase angle\n",
        "    Outputs: 1) P(g) = phase function \n",
        "    \n",
        "3) **backscatterFunction(g)**: This function calculates backscatter function in the Hapke radiative transfer model\n",
        "    Inputs: 1) g = phase angle\n",
        "    Outputs: 1) B(g) = backscattering function\n",
        "\n",
        "4) **bisection (func, a, b, tolerance)**: This function takes function, initial input a, b and tolerance tol, and find the root based on the bisection method.\n",
        "    Inputs: 1) func = function to find a root of zero 2) a = lowerlimit of the bisection range 3) b = upperlimit of the bisection range 4) tolerance \n",
        "    Outputs: 1) numerical answer from the bisection algorithm\n",
        "    \n",
        "5) **ssa2ref(w, mu_0, mu)**: This function calculates reflectance from the given SSA value\n",
        "    Inputs: 1) w = SSA, 2) mu or mu_0 = cosines of incidence and emergence angles\n",
        "    Output: 1) r = corresponding reflectance \n",
        "\n",
        "\n",
        "The Hapke radiative transfer model describes that the spectral reflectance relates to the single-scattering albedo (SSA) of mineral constituents.\n",
        "\n",
        "\\begin{align}\n",
        "r = \\frac{w}{4(\\mu + \\mu_0)}[(1 + B(g))P(g) + H(w, \\mu)H(w, \\mu_0) - 1],\n",
        "\\end{align}\n",
        "\n",
        "\n",
        "where $w$, $\\mu$, $\\mu_0$, and $g$ are SSA, cosine of an incidence angle, and cosine of an emittance angle, respectively. $B$ is the backscattering function, $P$ is the phase function, and $H$ is the Chandrasekhar integral function. \n",
        "\n",
        "We can assume $B = 0$ (no backscattering at the phase angle measured), and $P = 1$ (isotropic scatters) for laboratory measurements, which gives:\n",
        "\n",
        "\\begin{align}\n",
        "r = \\frac{w}{4(\\mu + \\mu_0)} H(w, \\mu)H(w, \\mu_0),\n",
        "\\end{align}\n",
        "\n",
        "For the latter case, function 3) and 4) will not be used"
      ],
      "metadata": {
        "id": "QjreQTwJQock"
      }
    },
    {
      "cell_type": "code",
      "source": [
        "def Chandrasekhar(w , x):\n",
        "    \"\"\"\n",
        "    This function calculates Chandrasekar H function from Hapke radiative tranfer model\n",
        "    Inputs: 1) w = SSA, 2) x = mu or mu_0\n",
        "    Output: 1) H = corresponding Chandrasekar H-function\n",
        "    \"\"\"\n",
        "\n",
        "    gamma = np.sqrt(1 - w)\n",
        "    r0 = (1 - gamma)/(1 + gamma)\n",
        "    H = (1 - w * x * (r0 + (1 - 2 * r0 * x)/2 * np.log((1 + x) / x)))**(-1);\n",
        "    \n",
        "    return H"
      ],
      "metadata": {
        "id": "zCUhIZL7Qyb4"
      },
      "execution_count": 5,
      "outputs": []
    },
    {
      "cell_type": "code",
      "source": [
        "def phaseFunction(g):\n",
        "    \"\"\"\n",
        "    This function calculates phase function in the Hapke radiative transfer model, that how reflected energy changes \n",
        "    with viewing directions. The value are from Pieters and Li lunar spectroscopy papers\n",
        "    Inputs: 1) g = phase angle\n",
        "    Ouputs: 1) P(g) = phase function\n",
        "    \"\"\"\n",
        "    b = -0.4\n",
        "    c = 0.25\n",
        "    \n",
        "    p_g = 1 + b * np.cos(np.radians(g)) + c * (1.5 * np.cos(np.radians(g))**2 - 0.5)\n",
        "    \n",
        "    return p_g"
      ],
      "metadata": {
        "id": "rZ5VvcwXVoKi"
      },
      "execution_count": 6,
      "outputs": []
    },
    {
      "cell_type": "code",
      "source": [
        "def backscatterFunction(g):\n",
        "    \"\"\"\n",
        "    This function calculates backscatter function in the Hapke radiative transfer model\n",
        "    Inputs: 1) g = phase angle\n",
        "    Ouputs: 1) B(g) = backscattering function\n",
        "    \"\"\"\n",
        "    \n",
        "    h = -3/8 * np.log(1 - 0.41) \n",
        "    \n",
        "    return 1 / (1 + (1/h)) * np.tan(np.radians(g / 2))"
      ],
      "metadata": {
        "id": "u6Y-dn3SVpRx"
      },
      "execution_count": 7,
      "outputs": []
    },
    {
      "cell_type": "code",
      "source": [
        "def bisection(func, a, b, tol): \n",
        "    \"\"\"\n",
        "    This function takes function, initial input a, b and tolerance tol,\n",
        "    and find the root based on the bisection method \n",
        "    \"\"\"\n",
        "    fa = func(a)\n",
        "    fb = func(b)\n",
        "    \n",
        "    if np.sign(fa) == np.sign(fb) or np.isnan(fa) or np.isnan(fb):\n",
        "        print(\"error: root not bracketed or function is NaN at endpoint\")\n",
        "        return 0\n",
        "    \n",
        "    # to crate lists for tracking value\n",
        "    _iter = []\n",
        "    _err_abs = []\n",
        "    _a = []\n",
        "    _p = []\n",
        "    _b = []\n",
        "    \n",
        "    i = 0 \n",
        "    # to loop while the absolute error is more than the tolerance\n",
        "    while (b - a) > tol: \n",
        "        \n",
        "        # to implement bisection algorithm\n",
        "        i = i + 1 \n",
        "        p = (a + b)/2 # midpoint\n",
        "        fp = func(p)\n",
        "        \n",
        "        # to add value to the lists\n",
        "        _iter.append(i)\n",
        "        _err_abs.append(b - a)\n",
        "        _a.append(a)\n",
        "        _p.append(p)\n",
        "        _b.append(b)\n",
        "        \n",
        "        # to update a and b\n",
        "        if np.sign(fp) == np.sign(fa):\n",
        "            a = p\n",
        "        else:\n",
        "            b = p\n",
        "    \n",
        "    return p"
      ],
      "metadata": {
        "id": "6f1Yb0MdVqTb"
      },
      "execution_count": 8,
      "outputs": []
    },
    {
      "cell_type": "code",
      "source": [
        "def ssa2ref(w, mu_0, mu):\n",
        "    \"\"\"\n",
        "    This function calculates reflectance from the given SSA value\n",
        "    Inputs: 1) w = SSA, 2) mu or mu_0 = cosines of incidence and emergence angles\n",
        "    Output: 1) r = corresponding reflectance \n",
        "    \"\"\"\n",
        "    # Calculates Chandrasekhar of the mixture\n",
        "    H_mu0 = Chandrasekhar(w, mu_0)\n",
        "    H_mu = Chandrasekhar(w, mu)\n",
        "\n",
        "    # Calculates reflectance of the mixture \n",
        "    #r = w / 4 / (mu_0 + mu) * ((1 + B(g)) * p(g) + H_mu0 * H_mu - 1) \n",
        "    \n",
        "    # Calculates reflectance of the mixture assuming B = 0 (no backscattering) and P = 1 (isotropic scatter)\n",
        "    r = w / 4 / (mu_0 + mu) * H_mu0 * H_mu\n",
        "    \n",
        "    return r"
      ],
      "metadata": {
        "id": "Onw6nQ0JVr0O"
      },
      "execution_count": 9,
      "outputs": []
    },
    {
      "cell_type": "markdown",
      "source": [
        "# 2) Converting reflectance to Single Scattering Albedo \n",
        "\n",
        "As the single scattering albedo has a non-linear behavior respect to reflectance, we used root finding numerical methods for solving single scattering albedo given reflectance.\n",
        "\n",
        "First we compare the reflectance from our synthetic reflectance model and actual reflectance using **compareReflectance function**. Then, we find the ssa value at each wavelength using **singleScatteringAlbedo function**, then iterate this process using **ref2ssa function**.\n",
        "\n",
        "1) **compareReflectance(ssa, mu_0, mu, ref)**: This function compares model reflectance and actual reflectance data \n",
        "    Inputs: 1) w = SSA, 2) mu or mu_0 = cosines of incidence and emergence angles, 3)reflectance of the sample\n",
        "    Output: 1) subtraction between the model and the actual data for ref2ssa function\n",
        "\n",
        "2)  **singleScatteringAlbedo(mu_0, mu, ref)**: This function converts reflectance data to SSA at one wavelength\n",
        "    Inputs: 1) mu or mu_0 = cosines of incidence and emergence angles, 2)reflectance of the sample\n",
        "    Output: 1) numerically found SSA value\n",
        "    \n",
        "3) **ref2ssa(wavelength, reflectance, mu_0, mu)** : This function converts the whole reflectance data to SSA  \n",
        "    Inputs: 1) w = SSA, 2) mu or mu_0 = cosines of incidence and emergence angles, 3)reflectance of the sample\n",
        "    Output: 1) subtraction between the model and the actual data for ref2ssa function"
      ],
      "metadata": {
        "id": "uwALkYPxVy_n"
      }
    },
    {
      "cell_type": "code",
      "source": [
        "def compareReflectance(ssa, mu_0, mu, ref):\n",
        "    \"\"\"\n",
        "    This function compares model reflectance and actual reflectance data \n",
        "    Inputs: 1) w = SSA, 2) mu or mu_0 = cosines of incidence and emergence angles, 3)reflectance of the sample\n",
        "    Output: 1) subtraction between the model and the actual data for ref2ssa function\n",
        "    \"\"\"\n",
        "        \n",
        "    # compare reflectance model and actual data reflectance data\n",
        "    return ssa2ref(ssa, mu_0, mu) - ref"
      ],
      "metadata": {
        "id": "rZX4cLDdVzeL"
      },
      "execution_count": 11,
      "outputs": []
    },
    {
      "cell_type": "code",
      "source": [
        "def singleScatteringAlbedo(mu_0, mu, ref):\n",
        "    \"\"\"\n",
        "    This function converts reflectance data to SSA at one wavelength\n",
        "    Inputs: 1) mu or mu_0 = cosines of incidence and emergence angles, 2)reflectance of the sample\n",
        "    Output: 1) numerically found SSA value\n",
        "    \"\"\"\n",
        "    \n",
        "    ssa = bisection(lambda ssa: compareReflectance(ssa, mu_0, mu, ref), 0.1, 1, 1e-6)\n",
        "    return ssa"
      ],
      "metadata": {
        "id": "TbjV0lhxV4uS"
      },
      "execution_count": 12,
      "outputs": []
    },
    {
      "cell_type": "code",
      "source": [
        "def ref2ssa(wavelength, reflectance, mu_0, mu):\n",
        "    \"\"\"\n",
        "    This function converts reflectance data to SSA  \n",
        "    Inputs: 1) w = SSA, 2) mu or mu_0 = cosines of incidence and emergence angles, 3)reflectance of the sample\n",
        "    Output: 1) subtraction between the model and the actual data for ref2ssa function\n",
        "    \"\"\"\n",
        "        \n",
        "    ssa = []\n",
        "    for ref in reflectance:\n",
        "        ssa.append(singleScatteringAlbedo(mu_0, mu, ref))\n",
        "\n",
        "    return wavelength, ssa"
      ],
      "metadata": {
        "id": "bBDCwvG2V6DQ"
      },
      "execution_count": 13,
      "outputs": []
    },
    {
      "cell_type": "markdown",
      "source": [
        "# 3) Application to the Laboratory Reflectance Spectra\n",
        "\n",
        "Now, we can convert laboratory reflectance data to single scattering albedo. We obtain wavelength and reflectance \".tab\" format data from PDS spectral library (https://pds-speclib.rsl.wustl.edu/search.aspx?catalog=RELAB) using **importspeclib function**. The **main function** shows examples of how we can convert them using functions above.\n",
        "\n",
        "\n",
        "1) **importspeclib(path)**: This function formatting .tab spectral data from PDS system, and returns wavelength and reflectance.\n",
        "    Inputs: 1) path of the file\n",
        "    Output: 1) wavelength and reflectance in list \n",
        "\n",
        "2) **main()**: This main function convert laboratory reflectance data to ssa using functions above."
      ],
      "metadata": {
        "id": "QD4PEMjMV89H"
      }
    },
    {
      "cell_type": "code",
      "source": [
        "def importspeclib(path): \n",
        "    \"\"\"\n",
        "    This function formatting .tab spectral data from PDS system, and returns wavelength and reflectance \n",
        "    Inputs: 1) path of the file\n",
        "    Output: 1) wavelength and reflectance in list \n",
        "    \"\"\"\n",
        "    wavelength = []\n",
        "    reflectance = []\n",
        "    with open(path, 'r') as f:\n",
        "        for count, line in enumerate(f):\n",
        "            if count == 0:\n",
        "                total = float(line)\n",
        "            elif count < total:\n",
        "                line = line.split()\n",
        "                wavelength.append(float(line[0]) * 1e-3)\n",
        "                reflectance.append(float(line[1]))\n",
        "    return wavelength, reflectance"
      ],
      "metadata": {
        "id": "Ws4fIIGpV_ns"
      },
      "execution_count": 14,
      "outputs": []
    },
    {
      "cell_type": "code",
      "source": [],
      "metadata": {
        "id": "Xu8CZBemWCV6"
      },
      "execution_count": null,
      "outputs": []
    }
  ]
}