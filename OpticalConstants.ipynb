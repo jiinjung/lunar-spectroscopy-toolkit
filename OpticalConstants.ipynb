{
  "nbformat": 4,
  "nbformat_minor": 0,
  "metadata": {
    "colab": {
      "provenance": [],
      "authorship_tag": "ABX9TyMsEmIWWaGbK1FtCAS59piE",
      "include_colab_link": true
    },
    "kernelspec": {
      "name": "python3",
      "display_name": "Python 3"
    },
    "language_info": {
      "name": "python"
    }
  },
  "cells": [
    {
      "cell_type": "markdown",
      "metadata": {
        "id": "view-in-github",
        "colab_type": "text"
      },
      "source": [
        "<a href=\"https://colab.research.google.com/github/jiinjung/lunar-spectroscopy-toolkit/blob/main/OpticalConstants.ipynb\" target=\"_parent\"><img src=\"https://colab.research.google.com/assets/colab-badge.svg\" alt=\"Open In Colab\"/></a>"
      ]
    },
    {
      "cell_type": "code",
      "execution_count": 1,
      "metadata": {
        "colab": {
          "base_uri": "https://localhost:8080/"
        },
        "id": "8cQ2UCd_MZe7",
        "outputId": "f666f309-372e-4eba-878c-31a64d6cfa57"
      },
      "outputs": [
        {
          "output_type": "stream",
          "name": "stdout",
          "text": [
            "Mounted at /content/drive\n"
          ]
        }
      ],
      "source": [
        "# This mounts your Google Drive to Colab\n",
        "from google.colab import drive\n",
        "drive.mount('/content/drive')\n",
        "\n",
        "# Enter the foldername in your Drive where you have saved \n",
        "FOLDERNAME = \"lunar-spectroscopy\"\n",
        "assert FOLDERNAME is not None, \"[!] Enter the foldername.\"\n",
        "\n",
        "# Now that we've mounted your Drive, this ensures that the Python interpreter of the Colab VM can load\n",
        "import sys\n",
        "syspath = '/content/drive/My Drive/{}'.format(FOLDERNAME)\n",
        "sys.path.append(syspath)"
      ]
    },
    {
      "cell_type": "code",
      "source": [
        "import numpy as np\n",
        "import pandas as pd\n",
        "import matplotlib.pyplot as plt\n",
        "from google.colab import files"
      ],
      "metadata": {
        "id": "4pPgMPJeMd-L"
      },
      "execution_count": 2,
      "outputs": []
    },
    {
      "cell_type": "markdown",
      "source": [
        "# 1) Basic Functions and Tools for Radiative Transfer Models\n",
        "(note that this part is the same as the #1 of refSSA.ipynb)\n",
        "\n",
        "\n",
        "Next few blocks are basic Hapke radiative transfer model functions and basic caculation tools for converting reflectance to single scattering albedo\n",
        "\n",
        "This includes five functions: \n",
        "\n",
        "1) **Chandrasekhar(w , x)** : This function calculates Chandrasekar H function from Hapke radiative tranfer model\n",
        "\n",
        "  Inputs: 1) w = SSA, 2) x = mu or mu_0\n",
        "\n",
        "  Output: 1) H = corresponding Chandrasekar H-function\n",
        "\n",
        "2) **phaseFunction(g)**: This function calculates phase function in the Hapke radiative transfer model, that how reflected energy changes with viewing directions. The value are from Pieters and Li lunar spectroscopy papers\n",
        "\n",
        "  Inputs: 1) g = phase angle\n",
        "\n",
        "  Outputs: 1) P(g) = phase function \n",
        "  \n",
        "3) **backscatterFunction(g)**: This function calculates backscatter function in the Hapke radiative transfer model\n",
        "\n",
        "  Inputs: 1) g = phase angle\n",
        "\n",
        "  Outputs: 1) B(g) = backscattering function\n",
        "\n",
        "4) **bisection (func, a, b, tolerance)**: This function takes function, initial input a, b and tolerance tol, and find the root based on the bisection method.\n",
        "\n",
        "  Inputs: 1) func = function to find a root of zero 2) a = lowerlimit of the bisection range 3) b = upperlimit of the bisection range 4) tolerance \n",
        "\n",
        "  Outputs: 1) numerical answer from the bisection algorithm\n",
        "  \n",
        "5) **ssa2ref(w, mu_0, mu)**: This function calculates reflectance from the given SSA value\n",
        "\n",
        "  Inputs: 1) w = SSA, 2) mu or mu_0 = cosines of incidence and emergence angles\n",
        "  \n",
        "  Output: 1) r = corresponding reflectance \n",
        "\n",
        "\n",
        "The Hapke radiative transfer model describes that the spectral reflectance relates to the single-scattering albedo (SSA) of mineral constituents.\n",
        "\n",
        "\\begin{align}\n",
        "r = \\frac{w}{4(\\mu + \\mu_0)}[(1 + B(g))P(g) + H(w, \\mu)H(w, \\mu_0) - 1],\n",
        "\\end{align}\n",
        "\n",
        "\n",
        "where $w$, $\\mu$, $\\mu_0$, and $g$ are SSA, cosine of an incidence angle, and cosine of an emittance angle, respectively. $B$ is the backscattering function, $P$ is the phase function, and $H$ is the Chandrasekhar integral function. \n",
        "\n",
        "We can assume $B = 0$ (no backscattering at the phase angle measured), and $P = 1$ (isotropic scatters) for laboratory measurements, which gives:\n",
        "\n",
        "\\begin{align}\n",
        "r = \\frac{w}{4(\\mu + \\mu_0)} H(w, \\mu)H(w, \\mu_0),\n",
        "\\end{align}\n",
        "\n",
        "For the latter case, function 3) and 4) will not be used."
      ],
      "metadata": {
        "id": "S0tYn7BkM43Y"
      }
    },
    {
      "cell_type": "code",
      "source": [
        "def Chandrasekhar(w , x):\n",
        "    \"\"\"\n",
        "    This function calculates Chandrasekar H function from Hapke radiative tranfer model\n",
        "    Inputs: 1) w = SSA, 2) x = mu or mu_0\n",
        "    Output: 1) H = corresponding Chandrasekar H-function\n",
        "    \"\"\"\n",
        "\n",
        "    gamma = np.sqrt(1 - w)\n",
        "    r0 = (1 - gamma)/(1 + gamma)\n",
        "    H = (1 - w * x * (r0 + (1 - 2 * r0 * x)/2 * np.log((1 + x) / x)))**(-1);\n",
        "    \n",
        "    return H"
      ],
      "metadata": {
        "id": "UZBNb2_TM1dA"
      },
      "execution_count": 6,
      "outputs": []
    },
    {
      "cell_type": "code",
      "source": [
        "def phaseFunction(g):\n",
        "    \"\"\"\n",
        "    This function calculates phase function in the Hapke radiative transfer model, that how reflected energy changes \n",
        "    with viewing directions. The value are from Pieters and Li lunar spectroscopy papers\n",
        "    Inputs: 1) g = phase angle\n",
        "    Ouputs: 1) P(g) = phase function\n",
        "    \"\"\"\n",
        "    b = -0.4\n",
        "    c = 0.25\n",
        "    \n",
        "    p_g = 1 + b * np.cos(np.radians(g)) + c * (1.5 * np.cos(np.radians(g))**2 - 0.5)\n",
        "    \n",
        "    return p_g"
      ],
      "metadata": {
        "id": "H3Nw98_9M8Cb"
      },
      "execution_count": 7,
      "outputs": []
    },
    {
      "cell_type": "code",
      "source": [
        "def backscatterFunction(g):\n",
        "    \"\"\"\n",
        "    This function calculates backscatter function in the Hapke radiative transfer model\n",
        "    Inputs: 1) g = phase angle\n",
        "    Ouputs: 1) B(g) = backscattering function\n",
        "    \"\"\"\n",
        "    \n",
        "    h = -3/8 * np.log(1 - 0.41) \n",
        "    \n",
        "    return 1 / (1 + (1/h)) * np.tan(np.radians(g / 2))"
      ],
      "metadata": {
        "id": "cDAcgDIwM9KZ"
      },
      "execution_count": 8,
      "outputs": []
    },
    {
      "cell_type": "code",
      "source": [
        "def bisection(func, a, b, tol): \n",
        "    \"\"\"\n",
        "    This function takes function, initial input a, b and tolerance tol,\n",
        "    and find the root based on the bisection method \n",
        "    \"\"\"\n",
        "    fa = func(a)\n",
        "    fb = func(b)\n",
        "    \n",
        "    if np.sign(fa) == np.sign(fb) or np.isnan(fa) or np.isnan(fb):\n",
        "        print(\"error: root not bracketed or function is NaN at endpoint\")\n",
        "        return 0\n",
        "    \n",
        "    # to crate lists for tracking value\n",
        "    _iter = []\n",
        "    _err_abs = []\n",
        "    _a = []\n",
        "    _p = []\n",
        "    _b = []\n",
        "    \n",
        "    i = 0 \n",
        "    # to loop while the absolute error is more than the tolerance\n",
        "    while (b - a) > tol: \n",
        "        \n",
        "        # to implement bisection algorithm\n",
        "        i = i + 1 \n",
        "        p = (a + b)/2 # midpoint\n",
        "        fp = func(p)\n",
        "        \n",
        "        # to add value to the lists\n",
        "        _iter.append(i)\n",
        "        _err_abs.append(b - a)\n",
        "        _a.append(a)\n",
        "        _p.append(p)\n",
        "        _b.append(b)\n",
        "        \n",
        "        # to update a and b\n",
        "        if np.sign(fp) == np.sign(fa):\n",
        "            a = p\n",
        "        else:\n",
        "            b = p\n",
        "    \n",
        "    return p"
      ],
      "metadata": {
        "id": "UdrTvpkxM-RS"
      },
      "execution_count": 9,
      "outputs": []
    },
    {
      "cell_type": "code",
      "source": [
        "def ssa2ref(w, mu_0, mu, g):\n",
        "    \"\"\"\n",
        "    This function calculates reflectance from the given SSA value\n",
        "    Inputs: 1) w = SSA, 2) mu or mu_0 = cosines of incidence and emergence angles\n",
        "    Output: 1) r = corresponding reflectance \n",
        "    \"\"\"\n",
        "    # Calculates Chandrasekhar of the mixture\n",
        "    H_mu0 = Chandrasekhar(w, mu_0)\n",
        "    H_mu = Chandrasekhar(w, mu)\n",
        "\n",
        "    # Calculates reflectance of the mixture \n",
        "    #r = w / 4 / (mu_0 + mu) * ((1 + B(g)) * p(g) + H_mu0 * H_mu - 1) \n",
        "    \n",
        "    # Calculates reflectance of the mixture assuming B = 0 (no backscattering) and P = 1 (isotropic scatter)\n",
        "    r = w / 4 / (mu_0 + mu) * H_mu0 * H_mu\n",
        "    \n",
        "    return r"
      ],
      "metadata": {
        "id": "IFlUG_SgM_m4"
      },
      "execution_count": 31,
      "outputs": []
    },
    {
      "cell_type": "markdown",
      "source": [
        "# 2) Hapke Radiative Transfer Model (SSA and Optical constants)\n",
        "\n",
        "Here we define a series of radiative transfer equations described in [Hapke, 1981]\n",
        "\n",
        "1) **ssa(se, si, th)** : This ssa function calculates single scattering albedo based on Hapke, 1981 model. \n",
        "\n",
        "Inputs: 1) se = the surface reflection coefficient, 2) si = the internally scattered light, 3) th = reflection coefficient; \n",
        "\n",
        "Ouputs: 1) ssa = single scattering albedo\n",
        "\n",
        "\\begin{align}\n",
        "w = S_e + (1-S_e)\\frac{1-S_i}{1-S_i\\theta}\\theta,\n",
        "\\end{align}\n",
        "\n",
        "\n",
        "2) **S_e(n, k)**: S_e is the surface reflection coefficient which takes optical constants n and k \n",
        "\n",
        "\\begin{align}\n",
        "S_e = \\frac{(n-1)^2 + k^2}{(n+1)^2 + k^2} + 0.05\n",
        "\\end{align}\n",
        "\n",
        "3) **S_i(n)**: S_i is the internally scattered light which takes optical constant n\n",
        "\n",
        "\\begin{align}\n",
        "S_i = 1.014 - \\frac{4}{n(n+1)^2}\n",
        "\\end{align}\n",
        "\n",
        "\n",
        "4) **theta(ri, a, s, d_mean)**: theta is the reflrection coefficient for externally incident light. This function takes s (real refractive index) and D (grain sizes in um)\n",
        "\\begin{align}\n",
        "\\theta =\\frac{r_i + \\text{exp}(-\\sqrt{\\alpha(\\alpha + s)\\langle D \\rangle})}{1 +r_i \\text{exp}(-\\sqrt{\\alpha(\\alpha + s)\\langle D \\rangle})}\n",
        "\\end{align}\n",
        "\n",
        "\n",
        "5) **r_i(alpha, s)**: r_i is the internal diffiusive bihemispherical reflectance in a particle. This function takes s alpha (internal absorption coefficient) and s (internal scattering coefficient)\n",
        "\n",
        "\\begin{align}\n",
        "r_i = \\frac{1 - \\sqrt{\\frac{\\alpha}{\\alpha + s}}}{1 + \\sqrt{\\frac{\\alpha}{\\alpha + s}}}\n",
        "\\end{align}\n",
        "\n",
        "\n",
        "\n",
        "6) **alpha(k, n, lbd)**: alpha is the internal absorption coefficien, which takes optical constants n and k and lbd (the wavelength of light in um)\n",
        "\n",
        "\\begin{align}\n",
        "\\alpha = \\frac{4 \\pi k}{\\lambda}\n",
        "\\end{align}\n",
        "\n",
        "\n",
        "7) **D_mean(n, D)**: $\\langle$D $\\rangle$  is the average distance traveled by transmitted rays during one traverse of a particle (the formulation of Lucey [1998])This function takes n (real refractive index) and D (grain sizes in um), and returns $\\langle$ D $\\rangle$  (mean free path in m) \n",
        "\\begin{align}\n",
        "\\langle D \\rangle = \\frac{2}{3}[n^2 - \\frac{1}{n}(n^2 - 1)^{\\frac{3}{2}}D]\n",
        "\\end{align}\n",
        "\n",
        "\n"
      ],
      "metadata": {
        "id": "U3ognBQDNFDv"
      }
    },
    {
      "cell_type": "code",
      "source": [
        "def ssa(se, si, th):\n",
        "    \"\"\"\n",
        "    This ssa function calculates single scattering albedo based on Hapke, 1981 model\n",
        "    Inputs: 1) se = the surface reflection coefficient, 2) si = the internally scattered light, 3) th = reflection coefficient \n",
        "    Ouputs: 1) ssa = single scattering albedo\n",
        "    \"\"\"\n",
        "    w = se + (1 - se) * (1 - si) / (1 - si * th) * th\n",
        "    return w"
      ],
      "metadata": {
        "id": "Q63p0CBaNCGV"
      },
      "execution_count": 11,
      "outputs": []
    },
    {
      "cell_type": "code",
      "source": [
        "def S_e(n, k):\n",
        "    \"\"\"\n",
        "    S_e is the surface reflection coefficient which takes optical constants n and k \n",
        "    \"\"\"\n",
        "    se = ((n - 1)**2 + k**2) / ((n + 1)**2 + k**2) + 0.05\n",
        "    return se"
      ],
      "metadata": {
        "id": "u03hMN6MNKa1"
      },
      "execution_count": 12,
      "outputs": []
    },
    {
      "cell_type": "code",
      "source": [
        "def S_i(n):\n",
        "    \"\"\"\n",
        "    S_i is the internally scattered light which takes optical constant n\n",
        "    \"\"\"\n",
        "    si = 1.014 - 4 / n / (n+1)**2\n",
        "    return si"
      ],
      "metadata": {
        "id": "DnPo7Dh7NL1p"
      },
      "execution_count": 13,
      "outputs": []
    },
    {
      "cell_type": "code",
      "source": [
        "def theta(ri, a, s, d_mean):\n",
        "    \"\"\"\n",
        "    theta is the reflrection coefficient for externally incident light \n",
        "    This function takes s (real refractive index) and D (grain sizes in um)\n",
        "    \"\"\"\n",
        "    th = (ri + np.exp(- np.sqrt(a * (a + s) * d_mean)))/(1 + ri * np.exp(- np.sqrt(a * (a + s) * d_mean)))\n",
        "    return th"
      ],
      "metadata": {
        "id": "1NtRWBe5NMn9"
      },
      "execution_count": 14,
      "outputs": []
    },
    {
      "cell_type": "code",
      "source": [
        "def r_i(alpha, s):\n",
        "    \"\"\"\n",
        "    r_i is the internal diffiusive bihemispherical reflectance in a particle \n",
        "    This function takes s alpha (internal absorption coefficient) and s (internal scattering coefficient)\n",
        "    \"\"\"\n",
        "    ri = (1 - np.sqrt(alpha/(alpha + s)))/(1 + np.sqrt(alpha/(alpha + s)))\n",
        "    return ri"
      ],
      "metadata": {
        "id": "koK8bxuNNO8O"
      },
      "execution_count": 15,
      "outputs": []
    },
    {
      "cell_type": "code",
      "source": [
        "def alpha(k, n, lbd):\n",
        "    \"\"\"\n",
        "    alpha is the internal absorption coefficien, which takes optical constants n and k \n",
        "    and lbd (the wavelength of light in um)\n",
        "    \"\"\"\n",
        "    a = 4 * np.pi * n * k / lbd\n",
        "    return a"
      ],
      "metadata": {
        "id": "cLlEG27UNP8s"
      },
      "execution_count": 16,
      "outputs": []
    },
    {
      "cell_type": "code",
      "source": [
        "def D_mean(n, D):\n",
        "    \"\"\"\n",
        "    <D> is the average distance traveled by transmitted rays \n",
        "    during one traverse of a particle (the formulation of Lucey [1998])\n",
        "    This function takes n (real refractive index) and D (grain sizes in um),\n",
        "    and returns <D> (mean free path in m) \n",
        "    \"\"\"\n",
        "    d_mean = 2 / 3 * (n**2 - 1 / n * (n**2 - 1)**(3 / 2)) * D\n",
        "    return d_mean"
      ],
      "metadata": {
        "id": "9ouZI5mLNQ7p"
      },
      "execution_count": 17,
      "outputs": []
    },
    {
      "cell_type": "markdown",
      "source": [
        "#3) Optical constants to SSA\n",
        "\n",
        "To account for the non-linear behavior of single scattering albedo (SSA) with respect to reflectance and optical constants, we use root-finding numerical methods for solving SSA given reflectance and given optical constants.\n",
        "\n",
        "\n",
        "We first define a function that calculates SSA based on optical constants n and k using  **nk2ssa**. Then, we compare the model reflectance (nk2ssa -> ssa2ref) and actual reflectance data using **f** and estimate k using the bisection method with the function **k**.\n",
        "\n",
        "\n",
        "1) **nk2ssa(n, k, D, lbd, s)**: This function takes optical constants \"n\" and \"k\", D (grain sizes in um), lbd (the wavelength of light in um), and returns the modeled SSA value.\n",
        "  \n",
        "2)  **f(D, n, k, wl, sp_measured, ina, ema, pha)**: This function compares model reflectance (nk2ssa -> ssa2ref) and actual reflectance data.\n",
        "\n",
        "Inputs: 1) D = grain sizes in µm, 2) n,k = optical constants n and k, \n",
        "            3) wl = wavelength in µm, 4) ina = incidence angle in degrees, \n",
        "            5) emg = emergence angle in degrees, 6) pha = phase angle in degrees\n",
        "\n",
        "Output: 1) subtraction between the model and the actual data for ref2ssa function\n",
        "    \n",
        "3) **k(w, r, D, n, tol, st, ed, ina, ema, pha)** : This function converts reflectance to k using bisection numerical method.\n",
        "    \n",
        "Inputs: 1) w = wavelegth in µm, 2) r = reflectance\n",
        "            3) D = grain sizes in µm, 4) n = optical constants n,\n",
        "            5) tol = tolerance 6) st, ed = start and end of the vector input (spectral data).\n",
        "            7) ina = incidence angle in degrees, 8) emg = emergence angle in degrees, 9) pha = phase angle in degrees\n",
        "\n",
        " Output: 1) wavelength and k"
      ],
      "metadata": {
        "id": "VZDk4Pi5Wyxz"
      }
    },
    {
      "cell_type": "code",
      "source": [
        "def nk2ssa(n, k, D, lbd, s):\n",
        "    \"\"\"\n",
        "    This function takes optical constants \"n\" and \"k\", D (grain sizes in um), \n",
        "    lbd (the wavelength of light in um), and returns modeled ssa value \n",
        "    \"\"\"\n",
        "    d_mean = D_mean(n, D) \n",
        "    a = alpha(k, n, lbd) \n",
        "    ri = r_i(a, s)\n",
        "    th = theta(ri, a, s, d_mean)\n",
        "    si = S_i(n)\n",
        "    se = S_e(n, k)\n",
        "    w = ssa(se, si, th)\n",
        "    \n",
        "    return w"
      ],
      "metadata": {
        "id": "dYPgL_QjNT8d"
      },
      "execution_count": 24,
      "outputs": []
    },
    {
      "cell_type": "code",
      "source": [
        "def f(D, n, k, wl, sp_measured, ina, ema, pha): \n",
        "    \"\"\"\n",
        "    This function compares model reflectance (nk2ssa -> ssa2ref) and actual reflectance data \n",
        "    Inputs: 1) D = grain sizes in µm, 2) n,k = optical constants n and k, \n",
        "            3) wl = wavelength in µm, 4) ina = incidence angle in degrees, \n",
        "            5) emg = emergence angle in degrees, 6) pha = phase angle in degrees\n",
        "    Output: 1) subtraction between the model and the actual data for ref2ssa function\n",
        "    \"\"\"\n",
        "\n",
        "    w = nk2ssa(n, k, D, wl, 0)\n",
        "    \n",
        "    mu_0 = np.cos(np.radians(ina)) \n",
        "    mu = np.cos(np.radians(ema)) \n",
        "    g = pha\n",
        "    \n",
        "    sp_expected = ssa2ref(w, mu_0, mu, g)\n",
        "    \n",
        "    return  sp_expected - sp_measured"
      ],
      "metadata": {
        "id": "YXe9WOwFNXCZ"
      },
      "execution_count": 23,
      "outputs": []
    },
    {
      "cell_type": "code",
      "source": [
        "def k(w, r, D, n, tol, st, ed, ina, ema, pha):\n",
        "    \"\"\"\n",
        "    This function converts reflectance to k using bisection numerical method.\n",
        "    Inputs: 1) w = wavelegth in µm, 2) r = reflectance\n",
        "            3) D = grain sizes in µm, 4) n = optical constants n,\n",
        "            5) tol = tolerance 6) st, ed = start and end of the vector input (spectral data).\n",
        "            7) ina = incidence angle in degrees, 8) emg = emergence angle in degrees, 9) pha = phase angle in degrees\n",
        "    Output: 1) wavelength and k\n",
        "    \"\"\"\n",
        "    k_spec = []\n",
        "    \n",
        "    for i in range(st, ed):\n",
        "        k_spec.append(bisection(lambda k: f(D, n, k, w[i], r[i], ina, ema, pha), 0.0000001, 1, tol))\n",
        "\n",
        "    return w[st:ed], k_spec"
      ],
      "metadata": {
        "id": "dWYCi6O_NfSi"
      },
      "execution_count": 45,
      "outputs": []
    },
    {
      "cell_type": "markdown",
      "source": [
        "# 3) Conversion Mineral Endmember Reflectance to Optical Constants\n",
        "\n",
        "First, we can downloaded a mineral endmember from the pds system (https://pds-speclib.rsl.wustl.edu/search.aspx?catalog=RELAB). The file format is tab deliminated and contains the information of  wavelength and reflectance.\n",
        "\n",
        "Here I will used the lunar olivine data c1lr169_15555_olivine.tab (https://pds-speclib.rsl.wustl.edu/measurement.aspx?lid=urn:nasa:pds:relab:data_reflectance:c1lr169) Please download this file to run the code below and obtain optical constant k (see example block).\n",
        "\n",
        "\n",
        "**importspeclib(path)**: This function formatting .tab spectral data from PDS system, and returns wavelength and reflectance.\n",
        "\n",
        "  Inputs: 1) path of the file\n",
        "\n",
        "  Output: 1) wavelength and reflectance in list \n",
        "\n",
        "\n"
      ],
      "metadata": {
        "id": "ibBAY52LNZJs"
      }
    },
    {
      "cell_type": "code",
      "source": [
        "def importspeclib(path): \n",
        "    \"\"\"\n",
        "    This function formatting .tab spectral data from PDS system, and returns wavelength and reflectance \n",
        "    Inputs: 1) path of the file\n",
        "    Output: 1) wavelength and reflectance in list \n",
        "    \"\"\"\n",
        "    wavelength = []\n",
        "    reflectance = []\n",
        "    with open(path, 'r') as f:\n",
        "        for count, line in enumerate(f):\n",
        "            if count == 0:\n",
        "                total = float(line)\n",
        "            elif count < total:\n",
        "                line = line.split()\n",
        "                wavelength.append(float(line[0]) * 1e-3)\n",
        "                reflectance.append(float(line[1]))\n",
        "    return wavelength, reflectance"
      ],
      "metadata": {
        "id": "-qKZSP5DNdw7"
      },
      "execution_count": 51,
      "outputs": []
    },
    {
      "cell_type": "code",
      "source": [
        "# example\n",
        "\n",
        "n = 1.83 # real refractive index for olivine\n",
        "mu = np.cos(np.radians(30)) # cosine of incidence angle\n",
        "mu_0 = np.cos(np.radians(0)) # cosine of the emergence angle\n",
        "D = 80 # Grain sizes (in um)\n",
        "\n",
        "path = \"/laboratory-data/mineral-reflectance/c1lr169_15555_olivine.tab\"\n",
        "w, r = importspeclib( syspath + path )\n",
        "w1, k1 = k(w, r, D, n, 10e-15, 20, 460, 30, 0, 30)\n",
        "\n",
        "\n",
        "plt.plot(w1, k1)\n",
        "plt.xlabel('wavelength (µm)')\n",
        "plt.ylabel('k')"
      ],
      "metadata": {
        "colab": {
          "base_uri": "https://localhost:8080/",
          "height": 300
        },
        "id": "By_CysyJNgX3",
        "outputId": "fe6bfd17-376d-4051-9444-a505077337e7"
      },
      "execution_count": 50,
      "outputs": [
        {
          "output_type": "execute_result",
          "data": {
            "text/plain": [
              "Text(0, 0.5, 'k')"
            ]
          },
          "metadata": {},
          "execution_count": 50
        },
        {
          "output_type": "display_data",
          "data": {
            "text/plain": [
              "<Figure size 432x288 with 1 Axes>"
            ],
            "image/png": "[encoded data removed]"
          },
          "metadata": {
            "needs_background": "light"
          }
        }
      ]
    },
    {
      "cell_type": "code",
      "source": [],
      "metadata": {
        "id": "vhMF-rcSTcef"
      },
      "execution_count": null,
      "outputs": []
    }
  ]
}